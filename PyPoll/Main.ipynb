{
 "cells": [
  {
   "cell_type": "code",
   "execution_count": 1,
   "metadata": {},
   "outputs": [
    {
     "name": "stdout",
     "output_type": "stream",
     "text": [
      "Election Results\n",
      "-------------------------\n",
      "Total Votes: 3521001\n",
      "-------------------------\n",
      "Khan: 63.0% (2218231 Votes)\n",
      "Correy: 20.0% (704200 Votes)\n",
      "Li: 14.0% (492940 Votes)\n",
      "O'Tooley: 3.0% (105630 Votes)\n",
      "-------------------------\n",
      "Winner: Khan\n",
      "-------------------------\n"
     ]
    }
   ],
   "source": [
    "import os\n",
    "import csv\n",
    "\n",
    "#creating a path\n",
    "\n",
    "path = os.path.join(\"Resources/election_data.csv\")\n",
    "\n",
    "#creating variables and empty list\n",
    "total_votes = 0\n",
    "\n",
    "candidate_list = []\n",
    "all_candidate_votes = []\n",
    "candidate_votes = []\n",
    "candidate_votes_percentage = []\n",
    "\n",
    "with open(path) as csvfile:\n",
    "    file = csv.reader(csvfile, delimiter = \",\")\n",
    "    \n",
    "    #popping the header\n",
    "    csv_header = next(file)\n",
    "    \n",
    "    for x in file:\n",
    "        #counting all the votes\n",
    "        total_votes = total_votes+1\n",
    "        \n",
    "        #putting all the votes to an empty list\n",
    "        all_candidate_votes.append(x[2])\n",
    "        \n",
    "        #putting unique candidates in candidate_list\n",
    "        if x[2] not in candidate_list:\n",
    "            candidate_list.append(x[2])\n",
    "        \n",
    "    #counting all the votes for EACH candidate, then putting the count in an empty list\n",
    "    for x in candidate_list:\n",
    "        candidate_votes.append(all_candidate_votes.count(x))\n",
    "        candidate_votes_percentage.append(round(all_candidate_votes.count(x)/total_votes * 100,ndigits=3)) \n",
    "        # the above rounding of the percentage does NOT work for me. 3 has the same decimals as 4. BUT when I put 5, it works. any thoughts?????\n",
    "        \n",
    "#now that all the variables/list have been populated with the right data. it is time to compile the winner, and spit out the analysis.\n",
    "\n",
    "#to calculate the name of the winning candidate:\n",
    "candidate_winner = candidate_list[candidate_votes.index(max(candidate_votes))]\n",
    "   \n",
    "print(\"Election Results\")\n",
    "print(\"-------------------------\")\n",
    "print(f\"Total Votes: {total_votes}\")\n",
    "print(\"-------------------------\")\n",
    "\n",
    "#lets loop through all the candidates, along with their votes percentage, and votes count\n",
    "for x in range(len(candidate_list)):\n",
    "    print(f\"{candidate_list[x]}: {candidate_votes_percentage[x]}% ({candidate_votes[x]} Votes)\")\n",
    "\n",
    "print(\"-------------------------\")\n",
    "print(f\"Winner: {candidate_winner}\")\n",
    "print(\"-------------------------\")\n",
    "\n",
    "\n",
    "#to output the txt file:\n",
    "output = os.path.join(\"Analysis/Analysis.txt\")\n",
    "with open(output, \"w\") as outfile:\n",
    "\n",
    "    outfile.write(\"Election Results\\n\")\n",
    "    outfile.write(\"-------------------------\\n\")\n",
    "    outfile.write(f\"Total Votes: {total_votes}\\n\")\n",
    "    outfile.write(\"-------------------------\\n\")\n",
    "    for x in range(len(candidate_list)):\n",
    "        outfile.write(f\"{candidate_list[x]}: {candidate_votes_percentage[x]}% ({candidate_votes[x]} Votes)\\n\")\n",
    "    outfile.write(\"-------------------------\\n\")\n",
    "    outfile.write(f\"Winner: {candidate_winner}\\n\")\n",
    "    outfile.write(\"-------------------------\\n\")"
   ]
  },
  {
   "cell_type": "code",
   "execution_count": null,
   "metadata": {},
   "outputs": [],
   "source": []
  }
 ],
 "metadata": {
  "kernelspec": {
   "display_name": "Python 3",
   "language": "python",
   "name": "python3"
  },
  "language_info": {
   "codemirror_mode": {
    "name": "ipython",
    "version": 3
   },
   "file_extension": ".py",
   "mimetype": "text/x-python",
   "name": "python",
   "nbconvert_exporter": "python",
   "pygments_lexer": "ipython3",
   "version": "3.7.6"
  }
 },
 "nbformat": 4,
 "nbformat_minor": 4
}
